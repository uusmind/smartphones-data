{
 "cells": [
  {
   "cell_type": "code",
   "execution_count": 1,
   "metadata": {
    "collapsed": true
   },
   "outputs": [],
   "source": [
    "from urllib2 import urlopen\n",
    "from bs4 import BeautifulSoup\n",
    "import pandas as pd"
   ]
  },
  {
   "cell_type": "markdown",
   "metadata": {},
   "source": [
    "# Scrape"
   ]
  },
  {
   "cell_type": "markdown",
   "metadata": {},
   "source": [
    "Let's scrape data about smartphones from internet store http://rozetka.com.ua/ . We can sort products by different ways, but we interested in this two:\n",
    "\n",
    "* sorting by rating\n",
    "* sorting by popularity"
   ]
  },
  {
   "cell_type": "code",
   "execution_count": 2,
   "metadata": {
    "collapsed": true
   },
   "outputs": [],
   "source": [
    "url_rating = 'http://rozetka.com.ua/mobile-phones/c80003/page={0};preset=smartfon;view=list/'\n",
    "url_popularity = 'http://rozetka.com.ua/mobile-phones/c80003/page={0};preset=smartfon;sort=popularity;view=list/'"
   ]
  },
  {
   "cell_type": "code",
   "execution_count": 3,
   "metadata": {
    "collapsed": false
   },
   "outputs": [
    {
     "name": "stdout",
     "output_type": "stream",
     "text": [
      "http://rozetka.com.ua/mobile-phones/c80003/page=1;preset=smartfon;view=list/\n"
     ]
    }
   ],
   "source": [
    "page_num = 23 \n",
    "pages = []\n",
    "for page_number in range(1, page_num + 1):\n",
    "    pages.append(url_rating.format(page_number))\n",
    "\n",
    "print pages[0]"
   ]
  },
  {
   "cell_type": "code",
   "execution_count": 4,
   "metadata": {
    "collapsed": false
   },
   "outputs": [],
   "source": [
    "products = []\n",
    "\n",
    "for i in range(len(pages)):\n",
    "    html = urlopen(pages[i])\n",
    "    soup = BeautifulSoup(html, 'html.parser')\n",
    "    \n",
    "    char_tab = '#tab=characteristics'\n",
    "    gils = soup.find_all(class_='g-i-list-title')\n",
    "    for gil in gils:\n",
    "        products.append(gil.find('a', href=True)['href']+char_tab)"
   ]
  },
  {
   "cell_type": "code",
   "execution_count": 5,
   "metadata": {
    "collapsed": false
   },
   "outputs": [],
   "source": [
    "l = len(products)"
   ]
  },
  {
   "cell_type": "code",
   "execution_count": 6,
   "metadata": {
    "collapsed": false
   },
   "outputs": [],
   "source": [
    "products = pd.DataFrame(products, columns=['link'])"
   ]
  },
  {
   "cell_type": "markdown",
   "metadata": {},
   "source": [
    "Items in products dataframe sorted by rating so let's add rating column. Also we add id column since we will renew this data later."
   ]
  },
  {
   "cell_type": "code",
   "execution_count": 7,
   "metadata": {
    "collapsed": false
   },
   "outputs": [],
   "source": [
    "products['id'] = pd.Series(range(l))\n",
    "products['rating'] = pd.Series(range(l))"
   ]
  },
  {
   "cell_type": "code",
   "execution_count": 8,
   "metadata": {
    "collapsed": false
   },
   "outputs": [
    {
     "data": {
      "text/html": [
       "<div>\n",
       "<table border=\"1\" class=\"dataframe\">\n",
       "  <thead>\n",
       "    <tr style=\"text-align: right;\">\n",
       "      <th></th>\n",
       "      <th>link</th>\n",
       "      <th>id</th>\n",
       "      <th>rating</th>\n",
       "    </tr>\n",
       "  </thead>\n",
       "  <tbody>\n",
       "    <tr>\n",
       "      <th>0</th>\n",
       "      <td>http://rozetka.com.ua/samsung_galaxy_j7_ds_bla...</td>\n",
       "      <td>0</td>\n",
       "      <td>0</td>\n",
       "    </tr>\n",
       "    <tr>\n",
       "      <th>1</th>\n",
       "      <td>http://rozetka.com.ua/huawei_y5_ii_gold_lifece...</td>\n",
       "      <td>1</td>\n",
       "      <td>1</td>\n",
       "    </tr>\n",
       "    <tr>\n",
       "      <th>2</th>\n",
       "      <td>http://rozetka.com.ua/samsung_sm_j320hzkdsek/p...</td>\n",
       "      <td>2</td>\n",
       "      <td>2</td>\n",
       "    </tr>\n",
       "    <tr>\n",
       "      <th>3</th>\n",
       "      <td>http://rozetka.com.ua/blackview_omega_pro_pw_e...</td>\n",
       "      <td>3</td>\n",
       "      <td>3</td>\n",
       "    </tr>\n",
       "    <tr>\n",
       "      <th>4</th>\n",
       "      <td>http://rozetka.com.ua/htc_desire_628_dual_sim_...</td>\n",
       "      <td>4</td>\n",
       "      <td>4</td>\n",
       "    </tr>\n",
       "  </tbody>\n",
       "</table>\n",
       "</div>"
      ],
      "text/plain": [
       "                                                link  id  rating\n",
       "0  http://rozetka.com.ua/samsung_galaxy_j7_ds_bla...   0       0\n",
       "1  http://rozetka.com.ua/huawei_y5_ii_gold_lifece...   1       1\n",
       "2  http://rozetka.com.ua/samsung_sm_j320hzkdsek/p...   2       2\n",
       "3  http://rozetka.com.ua/blackview_omega_pro_pw_e...   3       3\n",
       "4  http://rozetka.com.ua/htc_desire_628_dual_sim_...   4       4"
      ]
     },
     "execution_count": 8,
     "metadata": {},
     "output_type": "execute_result"
    }
   ],
   "source": [
    "products.head()"
   ]
  },
  {
   "cell_type": "markdown",
   "metadata": {},
   "source": [
    "Now let's fetch this data sorted by popularity."
   ]
  },
  {
   "cell_type": "code",
   "execution_count": 9,
   "metadata": {
    "collapsed": false
   },
   "outputs": [],
   "source": [
    "pages = []\n",
    "for page_number in range(1, page_num + 1):\n",
    "    pages.append(url_popularity.format(page_number))"
   ]
  },
  {
   "cell_type": "code",
   "execution_count": 10,
   "metadata": {
    "collapsed": false
   },
   "outputs": [],
   "source": [
    "pop_products = []\n",
    "for i in range(len(pages)):\n",
    "    html = urlopen(pages[i])\n",
    "    soup = BeautifulSoup(html, 'html.parser')\n",
    "    \n",
    "    char_tab = '#tab=characteristics'\n",
    "    gils = soup.find_all(class_='g-i-list-title')\n",
    "    for gil in gils:\n",
    "        pop_products.append(gil.find('a', href=True)['href']+char_tab)"
   ]
  },
  {
   "cell_type": "code",
   "execution_count": 11,
   "metadata": {
    "collapsed": true
   },
   "outputs": [],
   "source": [
    "pop_products = pd.DataFrame(pop_products, columns=['link'])"
   ]
  },
  {
   "cell_type": "code",
   "execution_count": 12,
   "metadata": {
    "collapsed": false
   },
   "outputs": [
    {
     "data": {
      "text/html": [
       "<div>\n",
       "<table border=\"1\" class=\"dataframe\">\n",
       "  <thead>\n",
       "    <tr style=\"text-align: right;\">\n",
       "      <th></th>\n",
       "      <th>link</th>\n",
       "      <th>popularity</th>\n",
       "    </tr>\n",
       "  </thead>\n",
       "  <tbody>\n",
       "    <tr>\n",
       "      <th>0</th>\n",
       "      <td>http://rozetka.com.ua/meizu_m2_16gb_wh_world/p...</td>\n",
       "      <td>0</td>\n",
       "    </tr>\n",
       "    <tr>\n",
       "      <th>1</th>\n",
       "      <td>http://rozetka.com.ua/doogge_x5_max_pro_black/...</td>\n",
       "      <td>1</td>\n",
       "    </tr>\n",
       "    <tr>\n",
       "      <th>2</th>\n",
       "      <td>http://rozetka.com.ua/meizu_m3_note_32_gr_eu/p...</td>\n",
       "      <td>2</td>\n",
       "    </tr>\n",
       "    <tr>\n",
       "      <th>3</th>\n",
       "      <td>http://rozetka.com.ua/xiaomi_redmi_4a_2_16_gd_...</td>\n",
       "      <td>3</td>\n",
       "    </tr>\n",
       "    <tr>\n",
       "      <th>4</th>\n",
       "      <td>http://rozetka.com.ua/prestigio_psp7530duogrey...</td>\n",
       "      <td>4</td>\n",
       "    </tr>\n",
       "  </tbody>\n",
       "</table>\n",
       "</div>"
      ],
      "text/plain": [
       "                                                link  popularity\n",
       "0  http://rozetka.com.ua/meizu_m2_16gb_wh_world/p...           0\n",
       "1  http://rozetka.com.ua/doogge_x5_max_pro_black/...           1\n",
       "2  http://rozetka.com.ua/meizu_m3_note_32_gr_eu/p...           2\n",
       "3  http://rozetka.com.ua/xiaomi_redmi_4a_2_16_gd_...           3\n",
       "4  http://rozetka.com.ua/prestigio_psp7530duogrey...           4"
      ]
     },
     "execution_count": 12,
     "metadata": {},
     "output_type": "execute_result"
    }
   ],
   "source": [
    "pop_products['popularity'] = pd.Series(range(l))\n",
    "pop_products.head()"
   ]
  },
  {
   "cell_type": "code",
   "execution_count": null,
   "metadata": {
    "collapsed": true
   },
   "outputs": [],
   "source": []
  },
  {
   "cell_type": "code",
   "execution_count": 13,
   "metadata": {
    "collapsed": true
   },
   "outputs": [],
   "source": [
    "data = pd.merge(products, pop_products,\n",
    "               left_on=['link'], right_on=['link'])"
   ]
  },
  {
   "cell_type": "code",
   "execution_count": 14,
   "metadata": {
    "collapsed": false
   },
   "outputs": [
    {
     "data": {
      "text/html": [
       "<div>\n",
       "<table border=\"1\" class=\"dataframe\">\n",
       "  <thead>\n",
       "    <tr style=\"text-align: right;\">\n",
       "      <th></th>\n",
       "      <th>link</th>\n",
       "      <th>id</th>\n",
       "      <th>rating</th>\n",
       "      <th>popularity</th>\n",
       "    </tr>\n",
       "  </thead>\n",
       "  <tbody>\n",
       "    <tr>\n",
       "      <th>0</th>\n",
       "      <td>http://rozetka.com.ua/samsung_galaxy_j7_ds_bla...</td>\n",
       "      <td>0</td>\n",
       "      <td>0</td>\n",
       "      <td>5</td>\n",
       "    </tr>\n",
       "    <tr>\n",
       "      <th>1</th>\n",
       "      <td>http://rozetka.com.ua/huawei_y5_ii_gold_lifece...</td>\n",
       "      <td>1</td>\n",
       "      <td>1</td>\n",
       "      <td>11</td>\n",
       "    </tr>\n",
       "    <tr>\n",
       "      <th>2</th>\n",
       "      <td>http://rozetka.com.ua/samsung_sm_j320hzkdsek/p...</td>\n",
       "      <td>2</td>\n",
       "      <td>2</td>\n",
       "      <td>8</td>\n",
       "    </tr>\n",
       "    <tr>\n",
       "      <th>3</th>\n",
       "      <td>http://rozetka.com.ua/blackview_omega_pro_pw_e...</td>\n",
       "      <td>3</td>\n",
       "      <td>3</td>\n",
       "      <td>13</td>\n",
       "    </tr>\n",
       "    <tr>\n",
       "      <th>4</th>\n",
       "      <td>http://rozetka.com.ua/htc_desire_628_dual_sim_...</td>\n",
       "      <td>4</td>\n",
       "      <td>4</td>\n",
       "      <td>30</td>\n",
       "    </tr>\n",
       "  </tbody>\n",
       "</table>\n",
       "</div>"
      ],
      "text/plain": [
       "                                                link  id  rating  popularity\n",
       "0  http://rozetka.com.ua/samsung_galaxy_j7_ds_bla...   0       0           5\n",
       "1  http://rozetka.com.ua/huawei_y5_ii_gold_lifece...   1       1          11\n",
       "2  http://rozetka.com.ua/samsung_sm_j320hzkdsek/p...   2       2           8\n",
       "3  http://rozetka.com.ua/blackview_omega_pro_pw_e...   3       3          13\n",
       "4  http://rozetka.com.ua/htc_desire_628_dual_sim_...   4       4          30"
      ]
     },
     "execution_count": 14,
     "metadata": {},
     "output_type": "execute_result"
    }
   ],
   "source": [
    "data.head()"
   ]
  },
  {
   "cell_type": "markdown",
   "metadata": {
    "collapsed": true
   },
   "source": [
    "Save data:"
   ]
  },
  {
   "cell_type": "code",
   "execution_count": 16,
   "metadata": {
    "collapsed": true
   },
   "outputs": [],
   "source": [
    "import datetime\n",
    "\n",
    "today = './data/' + str(datetime.date.today()) + '.csv'\n",
    "data.to_csv(today)"
   ]
  },
  {
   "cell_type": "markdown",
   "metadata": {
    "collapsed": true
   },
   "source": [
    "We will run this kernel every two weeks to detect changes."
   ]
  }
 ],
 "metadata": {
  "anaconda-cloud": {},
  "kernelspec": {
   "display_name": "Python [conda root]",
   "language": "python",
   "name": "conda-root-py"
  },
  "language_info": {
   "codemirror_mode": {
    "name": "ipython",
    "version": 2
   },
   "file_extension": ".py",
   "mimetype": "text/x-python",
   "name": "python",
   "nbconvert_exporter": "python",
   "pygments_lexer": "ipython2",
   "version": "2.7.12"
  }
 },
 "nbformat": 4,
 "nbformat_minor": 1
}
